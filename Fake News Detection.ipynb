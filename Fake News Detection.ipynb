{
 "cells": [
  {
   "cell_type": "code",
   "execution_count": 2,
   "id": "c5e9618b-1b85-4c70-bba2-ca0ca958007b",
   "metadata": {},
   "outputs": [],
   "source": [
    "import pandas as pd # data cleaning\n",
    "from sklearn.metrics import accuracy_score # for accuracy of test data\n",
    "from sklearn.metrics import precision_recall_fscore_support # further classification metrics\n",
    "from sklearn.model_selection import train_test_split # how to properly split the data into train and test set\n",
    "import string # test preprocessing\n",
    "import nltk # Explained Below\n",
    "from nltk.corpus import stopwords # Explained Below\n",
    "import matplotlib.pyplot as plt # graphing relevant objects"
   ]
  },
  {
   "cell_type": "markdown",
   "id": "94327f30-5d7a-4ccc-a715-cc8daa4a2e06",
   "metadata": {},
   "source": [
    "### Blog Link:\n",
    "https://www.blogger.com/u/0/blog/post/edit/6047707090945020095/7517903866570529982?hl=en"
   ]
  },
  {
   "cell_type": "markdown",
   "id": "dcc1dfd3-a77a-415d-b5f9-06d06053b7fa",
   "metadata": {},
   "source": [
    "### How to Reproduce the Code: \n",
    "\n",
    "This code is being run on my own personal laptop. All code below is reproducible and should run with no issues. The dataset link is pasted below in the \"Dataset\" section. The dataset consists of two downloadable files with one file containing real news and the other containing fake news.  "
   ]
  },
  {
   "cell_type": "markdown",
   "id": "0f4bed68-9ea9-4f29-84de-bd06cea39cd0",
   "metadata": {},
   "source": [
    "### Introduction:\n",
    "\n",
    "Fake news is a term which describes fabricated or deliberately misleading information presented as factual news. Fake news is prominent on many social media platforms, such as Twitter and Facebook. Many serious issues can arise with the dissemination of fake news, such as the spreading of misinformation of sensitive subjects, influencing public opinion, and even generating false narratives of specific communities. It is imperative for the detection of factual versus fake news to ensure the correct information is being spread since the safety of groups can be compromised.\n",
    "\n",
    "In this paper, we will implement several different machine learning algorithms on the University of Victoria's, School of Engineering, Fake News dataset \\cite{b1}. This dataset is comprised of nearly 45,000 news articles. After training and testing each model, we will compare their performance and select the most accurate one for further analysis. This analysis will involve examining the features and patterns that the model has identified as necessary for fake news article detection. "
   ]
  },
  {
   "cell_type": "markdown",
   "id": "ed1abf23-5c82-4bf9-9b5e-4515b5172e46",
   "metadata": {},
   "source": [
    "### Dataset: \n",
    "\n",
    "The dataset contains real and fake news articles. This dataset was collected from realworld sources; the truthful articles were obtained by crawling articles from Reuters.com (News website). As for the fake news articles, they were collected from different sources. The fake news articles were collected from unreliable websites that were flagged by Politifact (a fact-checking organization in the USA) and Wikipedia. The dataset contains different types of articles on different\n",
    "topics, however, the majority of articles focus on political and World news topics. \n",
    "\n",
    "https://onlineacademiccommunity.uvic.ca/isot/2022/11/27/fake-news-detection-datasets/"
   ]
  },
  {
   "cell_type": "code",
   "execution_count": 3,
   "id": "2bba834e-b0f9-4306-9aec-4965cfc4c39c",
   "metadata": {},
   "outputs": [],
   "source": [
    "df_fake = pd.read_csv('Fake.csv')\n",
    "df_real = pd.read_csv('True.csv')"
   ]
  },
  {
   "cell_type": "markdown",
   "id": "e7c30dac-739b-42da-9321-6db3561f33a1",
   "metadata": {},
   "source": [
    "### Viewing the Data:\n",
    "\n",
    "First, we will view the fake and factual news data. We can see below that there are four features: \"Title\", \"Text\", \"Subject\" and \"Date\". The title column represents the title of the article, the text contains the text of the article, the subject is a brief overview of what subject the news category is in, and the date is when the article was posted. "
   ]
  },
  {
   "cell_type": "code",
   "execution_count": 4,
   "id": "5dae230a-83bd-4cc2-9387-5b9ec32c2954",
   "metadata": {},
   "outputs": [
    {
     "data": {
      "text/html": [
       "<div>\n",
       "<style scoped>\n",
       "    .dataframe tbody tr th:only-of-type {\n",
       "        vertical-align: middle;\n",
       "    }\n",
       "\n",
       "    .dataframe tbody tr th {\n",
       "        vertical-align: top;\n",
       "    }\n",
       "\n",
       "    .dataframe thead th {\n",
       "        text-align: right;\n",
       "    }\n",
       "</style>\n",
       "<table border=\"1\" class=\"dataframe\">\n",
       "  <thead>\n",
       "    <tr style=\"text-align: right;\">\n",
       "      <th></th>\n",
       "      <th>title</th>\n",
       "      <th>text</th>\n",
       "      <th>subject</th>\n",
       "      <th>date</th>\n",
       "    </tr>\n",
       "  </thead>\n",
       "  <tbody>\n",
       "    <tr>\n",
       "      <th>0</th>\n",
       "      <td>Donald Trump Sends Out Embarrassing New Year’...</td>\n",
       "      <td>Donald Trump just couldn t wish all Americans ...</td>\n",
       "      <td>News</td>\n",
       "      <td>December 31, 2017</td>\n",
       "    </tr>\n",
       "    <tr>\n",
       "      <th>1</th>\n",
       "      <td>Drunk Bragging Trump Staffer Started Russian ...</td>\n",
       "      <td>House Intelligence Committee Chairman Devin Nu...</td>\n",
       "      <td>News</td>\n",
       "      <td>December 31, 2017</td>\n",
       "    </tr>\n",
       "    <tr>\n",
       "      <th>2</th>\n",
       "      <td>Sheriff David Clarke Becomes An Internet Joke...</td>\n",
       "      <td>On Friday, it was revealed that former Milwauk...</td>\n",
       "      <td>News</td>\n",
       "      <td>December 30, 2017</td>\n",
       "    </tr>\n",
       "    <tr>\n",
       "      <th>3</th>\n",
       "      <td>Trump Is So Obsessed He Even Has Obama’s Name...</td>\n",
       "      <td>On Christmas day, Donald Trump announced that ...</td>\n",
       "      <td>News</td>\n",
       "      <td>December 29, 2017</td>\n",
       "    </tr>\n",
       "    <tr>\n",
       "      <th>4</th>\n",
       "      <td>Pope Francis Just Called Out Donald Trump Dur...</td>\n",
       "      <td>Pope Francis used his annual Christmas Day mes...</td>\n",
       "      <td>News</td>\n",
       "      <td>December 25, 2017</td>\n",
       "    </tr>\n",
       "  </tbody>\n",
       "</table>\n",
       "</div>"
      ],
      "text/plain": [
       "                                               title  \\\n",
       "0   Donald Trump Sends Out Embarrassing New Year’...   \n",
       "1   Drunk Bragging Trump Staffer Started Russian ...   \n",
       "2   Sheriff David Clarke Becomes An Internet Joke...   \n",
       "3   Trump Is So Obsessed He Even Has Obama’s Name...   \n",
       "4   Pope Francis Just Called Out Donald Trump Dur...   \n",
       "\n",
       "                                                text subject  \\\n",
       "0  Donald Trump just couldn t wish all Americans ...    News   \n",
       "1  House Intelligence Committee Chairman Devin Nu...    News   \n",
       "2  On Friday, it was revealed that former Milwauk...    News   \n",
       "3  On Christmas day, Donald Trump announced that ...    News   \n",
       "4  Pope Francis used his annual Christmas Day mes...    News   \n",
       "\n",
       "                date  \n",
       "0  December 31, 2017  \n",
       "1  December 31, 2017  \n",
       "2  December 30, 2017  \n",
       "3  December 29, 2017  \n",
       "4  December 25, 2017  "
      ]
     },
     "execution_count": 4,
     "metadata": {},
     "output_type": "execute_result"
    }
   ],
   "source": [
    "df_fake.head()"
   ]
  },
  {
   "cell_type": "code",
   "execution_count": 5,
   "id": "22e2ba8d-3f0d-44a5-b831-9e10ea2b00d5",
   "metadata": {},
   "outputs": [
    {
     "data": {
      "text/html": [
       "<div>\n",
       "<style scoped>\n",
       "    .dataframe tbody tr th:only-of-type {\n",
       "        vertical-align: middle;\n",
       "    }\n",
       "\n",
       "    .dataframe tbody tr th {\n",
       "        vertical-align: top;\n",
       "    }\n",
       "\n",
       "    .dataframe thead th {\n",
       "        text-align: right;\n",
       "    }\n",
       "</style>\n",
       "<table border=\"1\" class=\"dataframe\">\n",
       "  <thead>\n",
       "    <tr style=\"text-align: right;\">\n",
       "      <th></th>\n",
       "      <th>title</th>\n",
       "      <th>text</th>\n",
       "      <th>subject</th>\n",
       "      <th>date</th>\n",
       "    </tr>\n",
       "  </thead>\n",
       "  <tbody>\n",
       "    <tr>\n",
       "      <th>0</th>\n",
       "      <td>As U.S. budget fight looms, Republicans flip t...</td>\n",
       "      <td>WASHINGTON (Reuters) - The head of a conservat...</td>\n",
       "      <td>politicsNews</td>\n",
       "      <td>December 31, 2017</td>\n",
       "    </tr>\n",
       "    <tr>\n",
       "      <th>1</th>\n",
       "      <td>U.S. military to accept transgender recruits o...</td>\n",
       "      <td>WASHINGTON (Reuters) - Transgender people will...</td>\n",
       "      <td>politicsNews</td>\n",
       "      <td>December 29, 2017</td>\n",
       "    </tr>\n",
       "    <tr>\n",
       "      <th>2</th>\n",
       "      <td>Senior U.S. Republican senator: 'Let Mr. Muell...</td>\n",
       "      <td>WASHINGTON (Reuters) - The special counsel inv...</td>\n",
       "      <td>politicsNews</td>\n",
       "      <td>December 31, 2017</td>\n",
       "    </tr>\n",
       "    <tr>\n",
       "      <th>3</th>\n",
       "      <td>FBI Russia probe helped by Australian diplomat...</td>\n",
       "      <td>WASHINGTON (Reuters) - Trump campaign adviser ...</td>\n",
       "      <td>politicsNews</td>\n",
       "      <td>December 30, 2017</td>\n",
       "    </tr>\n",
       "    <tr>\n",
       "      <th>4</th>\n",
       "      <td>Trump wants Postal Service to charge 'much mor...</td>\n",
       "      <td>SEATTLE/WASHINGTON (Reuters) - President Donal...</td>\n",
       "      <td>politicsNews</td>\n",
       "      <td>December 29, 2017</td>\n",
       "    </tr>\n",
       "  </tbody>\n",
       "</table>\n",
       "</div>"
      ],
      "text/plain": [
       "                                               title  \\\n",
       "0  As U.S. budget fight looms, Republicans flip t...   \n",
       "1  U.S. military to accept transgender recruits o...   \n",
       "2  Senior U.S. Republican senator: 'Let Mr. Muell...   \n",
       "3  FBI Russia probe helped by Australian diplomat...   \n",
       "4  Trump wants Postal Service to charge 'much mor...   \n",
       "\n",
       "                                                text       subject  \\\n",
       "0  WASHINGTON (Reuters) - The head of a conservat...  politicsNews   \n",
       "1  WASHINGTON (Reuters) - Transgender people will...  politicsNews   \n",
       "2  WASHINGTON (Reuters) - The special counsel inv...  politicsNews   \n",
       "3  WASHINGTON (Reuters) - Trump campaign adviser ...  politicsNews   \n",
       "4  SEATTLE/WASHINGTON (Reuters) - President Donal...  politicsNews   \n",
       "\n",
       "                 date  \n",
       "0  December 31, 2017   \n",
       "1  December 29, 2017   \n",
       "2  December 31, 2017   \n",
       "3  December 30, 2017   \n",
       "4  December 29, 2017   "
      ]
     },
     "execution_count": 5,
     "metadata": {},
     "output_type": "execute_result"
    }
   ],
   "source": [
    "df_real.head()"
   ]
  },
  {
   "cell_type": "markdown",
   "id": "897bf115-2792-469e-b454-4447f7b344b3",
   "metadata": {},
   "source": [
    "### Create Labels: \n",
    "\n",
    "Here, we will assign labels to the data. A binary classification model will be used to detect the news articles. A '1' represents fake news and a '0' represents the real new articles. "
   ]
  },
  {
   "cell_type": "code",
   "execution_count": 15,
   "id": "4433a642-80d8-4f32-8da5-7b56701c10ca",
   "metadata": {},
   "outputs": [],
   "source": [
    "df_fake[\"class\"] = 1\n",
    "df_real[\"class\"] = 0"
   ]
  },
  {
   "cell_type": "markdown",
   "id": "44bba5e2-b1a1-49b1-b622-d6fbb97236aa",
   "metadata": {},
   "source": [
    "### Size of data: \n",
    "\n",
    "The fake news has 23,481 entries with 5 columns (including the label column). The real news has 21,417 entries with the same columns. "
   ]
  },
  {
   "cell_type": "code",
   "execution_count": 20,
   "id": "3d65b40e-f0f9-47bb-958d-feeb4bf03b89",
   "metadata": {},
   "outputs": [
    {
     "data": {
      "text/plain": [
       "((23481, 5), (21417, 5))"
      ]
     },
     "execution_count": 20,
     "metadata": {},
     "output_type": "execute_result"
    }
   ],
   "source": [
    "df_fake.shape, df_real.shape"
   ]
  },
  {
   "cell_type": "markdown",
   "id": "12cc7da8-fe20-4912-b1dd-14682204af4c",
   "metadata": {},
   "source": [
    "### Merge the Data:\n",
    "\n",
    "In this section we will concatenate both dataframes to create one singular dataframe. The name of the new dataframe is 'df_full'. The data is further cleaned to drop duplicate entries as well values that are non-existent. After cleaning the data, 209 entries were removed from the new dataframe. The merged dataframe has 44,689 entries and 5 features. "
   ]
  },
  {
   "cell_type": "code",
   "execution_count": 21,
   "id": "64a0899b-fbad-4857-b6a6-44d15fb883d1",
   "metadata": {},
   "outputs": [
    {
     "data": {
      "text/plain": [
       "(44689, 5)"
      ]
     },
     "execution_count": 21,
     "metadata": {},
     "output_type": "execute_result"
    }
   ],
   "source": [
    "df_full = pd.concat([df_fake, df_real])\n",
    "df_full.drop_duplicates(inplace = True) \n",
    "df_full.dropna(axis=0, inplace = True) \n",
    "df_full.head()\n",
    "df_full.shape"
   ]
  },
  {
   "cell_type": "markdown",
   "id": "d86009b1-5484-4427-ab50-8bf4a4a6087f",
   "metadata": {},
   "source": [
    "### Balance the Dataframe:\n",
    "\n",
    "In this code chunk below, we are balancing the dataframes so that there are an equal amount of real and fake news articles. Although the dataset was already fairly balanced, this will ensure a 50/50 balance among the entries for the future classifiers. "
   ]
  },
  {
   "cell_type": "code",
   "execution_count": 22,
   "id": "e8fd6988-4333-4693-9c91-7e3b6cf3d127",
   "metadata": {},
   "outputs": [],
   "source": [
    "# Separate the fake and real data\n",
    "df_fake_balanced = df_full[df_full['class'] == 0]\n",
    "df_real_balanced = df_full[df_full['class'] == 1]\n",
    "\n",
    "min_class_size = min(len(df_fake_balanced), len(df_real_balanced))\n",
    "\n",
    "# Randomly sample the same number of entries from each class\n",
    "df_fake_balanced = df_fake_balanced.sample(n=min_class_size, random_state=42)\n",
    "df_real_balanced = df_real_balanced.sample(n=min_class_size, random_state=42)\n",
    "\n",
    "df_full_balanced = pd.concat([df_fake_balanced, df_real_balanced])\n",
    "\n",
    "# Reset the index\n",
    "df_full_balanced.reset_index(drop=True, inplace=True)"
   ]
  },
  {
   "cell_type": "code",
   "execution_count": 25,
   "id": "11ad2863-a153-4a49-a31d-b90e6d842ba6",
   "metadata": {},
   "outputs": [
    {
     "data": {
      "image/png": "[encoded data removed]",
      "text/plain": [
       "<Figure size 640x480 with 1 Axes>"
      ]
     },
     "metadata": {},
     "output_type": "display_data"
    }
   ],
   "source": [
    "class_labels = {1: 'Fake', 0: 'Real'}\n",
    "df_full_balanced['class_label'] = df_full_balanced['class'].map(class_labels)\n",
    "\n",
    "# Count occurrences of each class\n",
    "class_counts = df_full_balanced['class_label'].value_counts()\n",
    "\n",
    "# Create the bar chart\n",
    "fig, ax = plt.subplots()\n",
    "ax.bar(class_counts.index, class_counts.values)\n",
    "ax.set_title('Bar Chart of DataFrame Class Counts')\n",
    "ax.set_ylabel('Number of Rows')\n",
    "ax.set_xlabel('Class')\n",
    "\n",
    "plt.show()"
   ]
  },
  {
   "cell_type": "markdown",
   "id": "2b8dcde6-7d45-4316-abab-f546be77df7c",
   "metadata": {},
   "source": [
    "### Continue Cleaning: \n",
    "\n",
    "For this project, we  are only interested in the \"text\" column of the dataset since this is where most of the false information is stored. We drop the title, subject, and date features from the dataset and keep the text and label column. The label column denotes if the article is fake or factual. The dataframe is once again renamed to 'data'. "
   ]
  },
  {
   "cell_type": "code",
   "execution_count": 27,
   "id": "74ccf877-2e9a-409a-9f1a-77dad0f9fba3",
   "metadata": {},
   "outputs": [
    {
     "data": {
      "text/html": [
       "<div>\n",
       "<style scoped>\n",
       "    .dataframe tbody tr th:only-of-type {\n",
       "        vertical-align: middle;\n",
       "    }\n",
       "\n",
       "    .dataframe tbody tr th {\n",
       "        vertical-align: top;\n",
       "    }\n",
       "\n",
       "    .dataframe thead th {\n",
       "        text-align: right;\n",
       "    }\n",
       "</style>\n",
       "<table border=\"1\" class=\"dataframe\">\n",
       "  <thead>\n",
       "    <tr style=\"text-align: right;\">\n",
       "      <th></th>\n",
       "      <th>text</th>\n",
       "      <th>class</th>\n",
       "      <th>class_label</th>\n",
       "    </tr>\n",
       "  </thead>\n",
       "  <tbody>\n",
       "    <tr>\n",
       "      <th>0</th>\n",
       "      <td>JERUSALEM/BEIRUT (Reuters) - Five projectiles ...</td>\n",
       "      <td>0</td>\n",
       "      <td>Real</td>\n",
       "    </tr>\n",
       "    <tr>\n",
       "      <th>1</th>\n",
       "      <td>BEIRUT (Reuters) - Russia s planned peace talk...</td>\n",
       "      <td>0</td>\n",
       "      <td>Real</td>\n",
       "    </tr>\n",
       "    <tr>\n",
       "      <th>2</th>\n",
       "      <td>TAIPEI (Reuters) - Taiwan and China need to dr...</td>\n",
       "      <td>0</td>\n",
       "      <td>Real</td>\n",
       "    </tr>\n",
       "    <tr>\n",
       "      <th>3</th>\n",
       "      <td>WASHINGTON (Reuters) - Aides to President-elec...</td>\n",
       "      <td>0</td>\n",
       "      <td>Real</td>\n",
       "    </tr>\n",
       "    <tr>\n",
       "      <th>4</th>\n",
       "      <td>ISTANBUL (Reuters) - Turkey s Deputy Prime Min...</td>\n",
       "      <td>0</td>\n",
       "      <td>Real</td>\n",
       "    </tr>\n",
       "  </tbody>\n",
       "</table>\n",
       "</div>"
      ],
      "text/plain": [
       "                                                text  class class_label\n",
       "0  JERUSALEM/BEIRUT (Reuters) - Five projectiles ...      0        Real\n",
       "1  BEIRUT (Reuters) - Russia s planned peace talk...      0        Real\n",
       "2  TAIPEI (Reuters) - Taiwan and China need to dr...      0        Real\n",
       "3  WASHINGTON (Reuters) - Aides to President-elec...      0        Real\n",
       "4  ISTANBUL (Reuters) - Turkey s Deputy Prime Min...      0        Real"
      ]
     },
     "execution_count": 27,
     "metadata": {},
     "output_type": "execute_result"
    }
   ],
   "source": [
    "data = df_full_balanced.drop(['title', 'subject', 'date'], axis = 1)\n",
    "data.head()"
   ]
  },
  {
   "cell_type": "markdown",
   "id": "9ec8d6ec-2813-48f0-b775-4c4a1f7538fe",
   "metadata": {},
   "source": [
    "### Viewing the dataframe: \n",
    "\n",
    "The following two code chunks show the cleaned dataframe, and some samples from the dataframe. We can see that there are real news and fake news labels present in the sample below. The following code chunk resets the index which randomly shuffles the dataframe. "
   ]
  },
  {
   "cell_type": "code",
   "execution_count": 28,
   "id": "331ce59b-efb5-43b1-81f8-245d674a7a15",
   "metadata": {},
   "outputs": [
    {
     "data": {
      "text/html": [
       "<div>\n",
       "<style scoped>\n",
       "    .dataframe tbody tr th:only-of-type {\n",
       "        vertical-align: middle;\n",
       "    }\n",
       "\n",
       "    .dataframe tbody tr th {\n",
       "        vertical-align: top;\n",
       "    }\n",
       "\n",
       "    .dataframe thead th {\n",
       "        text-align: right;\n",
       "    }\n",
       "</style>\n",
       "<table border=\"1\" class=\"dataframe\">\n",
       "  <thead>\n",
       "    <tr style=\"text-align: right;\">\n",
       "      <th></th>\n",
       "      <th>text</th>\n",
       "      <th>class</th>\n",
       "      <th>class_label</th>\n",
       "    </tr>\n",
       "  </thead>\n",
       "  <tbody>\n",
       "    <tr>\n",
       "      <th>32290</th>\n",
       "      <td>When major changes happen, it is often difficu...</td>\n",
       "      <td>1</td>\n",
       "      <td>Fake</td>\n",
       "    </tr>\n",
       "    <tr>\n",
       "      <th>39404</th>\n",
       "      <td>Donald Trump is an unapologetic Islamophobic b...</td>\n",
       "      <td>1</td>\n",
       "      <td>Fake</td>\n",
       "    </tr>\n",
       "    <tr>\n",
       "      <th>8176</th>\n",
       "      <td>(Reuters) - United Nations aid agencies said t...</td>\n",
       "      <td>0</td>\n",
       "      <td>Real</td>\n",
       "    </tr>\n",
       "    <tr>\n",
       "      <th>35212</th>\n",
       "      <td>Conservatives may have the nominee they wanted...</td>\n",
       "      <td>1</td>\n",
       "      <td>Fake</td>\n",
       "    </tr>\n",
       "    <tr>\n",
       "      <th>1137</th>\n",
       "      <td>PARIS (Reuters) - French voters view far lefti...</td>\n",
       "      <td>0</td>\n",
       "      <td>Real</td>\n",
       "    </tr>\n",
       "  </tbody>\n",
       "</table>\n",
       "</div>"
      ],
      "text/plain": [
       "                                                    text  class class_label\n",
       "32290  When major changes happen, it is often difficu...      1        Fake\n",
       "39404  Donald Trump is an unapologetic Islamophobic b...      1        Fake\n",
       "8176   (Reuters) - United Nations aid agencies said t...      0        Real\n",
       "35212  Conservatives may have the nominee they wanted...      1        Fake\n",
       "1137   PARIS (Reuters) - French voters view far lefti...      0        Real"
      ]
     },
     "execution_count": 28,
     "metadata": {},
     "output_type": "execute_result"
    }
   ],
   "source": [
    "data = data.sample(frac = 1)\n",
    "data.head()"
   ]
  },
  {
   "cell_type": "code",
   "execution_count": 29,
   "id": "c58ebb2c-76a2-4885-858e-c1e8b46a0509",
   "metadata": {},
   "outputs": [
    {
     "data": {
      "text/html": [
       "<div>\n",
       "<style scoped>\n",
       "    .dataframe tbody tr th:only-of-type {\n",
       "        vertical-align: middle;\n",
       "    }\n",
       "\n",
       "    .dataframe tbody tr th {\n",
       "        vertical-align: top;\n",
       "    }\n",
       "\n",
       "    .dataframe thead th {\n",
       "        text-align: right;\n",
       "    }\n",
       "</style>\n",
       "<table border=\"1\" class=\"dataframe\">\n",
       "  <thead>\n",
       "    <tr style=\"text-align: right;\">\n",
       "      <th></th>\n",
       "      <th>text</th>\n",
       "      <th>class</th>\n",
       "      <th>class_label</th>\n",
       "    </tr>\n",
       "  </thead>\n",
       "  <tbody>\n",
       "    <tr>\n",
       "      <th>0</th>\n",
       "      <td>When major changes happen, it is often difficu...</td>\n",
       "      <td>1</td>\n",
       "      <td>Fake</td>\n",
       "    </tr>\n",
       "    <tr>\n",
       "      <th>1</th>\n",
       "      <td>Donald Trump is an unapologetic Islamophobic b...</td>\n",
       "      <td>1</td>\n",
       "      <td>Fake</td>\n",
       "    </tr>\n",
       "    <tr>\n",
       "      <th>2</th>\n",
       "      <td>(Reuters) - United Nations aid agencies said t...</td>\n",
       "      <td>0</td>\n",
       "      <td>Real</td>\n",
       "    </tr>\n",
       "    <tr>\n",
       "      <th>3</th>\n",
       "      <td>Conservatives may have the nominee they wanted...</td>\n",
       "      <td>1</td>\n",
       "      <td>Fake</td>\n",
       "    </tr>\n",
       "    <tr>\n",
       "      <th>4</th>\n",
       "      <td>PARIS (Reuters) - French voters view far lefti...</td>\n",
       "      <td>0</td>\n",
       "      <td>Real</td>\n",
       "    </tr>\n",
       "  </tbody>\n",
       "</table>\n",
       "</div>"
      ],
      "text/plain": [
       "                                                text  class class_label\n",
       "0  When major changes happen, it is often difficu...      1        Fake\n",
       "1  Donald Trump is an unapologetic Islamophobic b...      1        Fake\n",
       "2  (Reuters) - United Nations aid agencies said t...      0        Real\n",
       "3  Conservatives may have the nominee they wanted...      1        Fake\n",
       "4  PARIS (Reuters) - French voters view far lefti...      0        Real"
      ]
     },
     "execution_count": 29,
     "metadata": {},
     "output_type": "execute_result"
    }
   ],
   "source": [
    "data.reset_index(inplace = True)\n",
    "data.drop(['index'], axis = 1, inplace = True)\n",
    "data.columns\n",
    "data.head()"
   ]
  },
  {
   "cell_type": "markdown",
   "id": "19980b1b-6305-4b21-892f-c2ecbd7c1212",
   "metadata": {},
   "source": [
    "### NLTK Stopwords: \n",
    "\n",
    "Stopwords are common 'filler' words in the english language. They are known to add noise to articles and must be removed from the text of the articles in order to perform the proper analysis. This is a must for text pre-processing. "
   ]
  },
  {
   "cell_type": "code",
   "execution_count": 30,
   "id": "dd5eda15-7a30-4ba0-bb9f-ab95534bf9dd",
   "metadata": {},
   "outputs": [
    {
     "name": "stderr",
     "output_type": "stream",
     "text": [
      "[nltk_data] Downloading package stopwords to\n",
      "[nltk_data]     /Users/kylestein/nltk_data...\n",
      "[nltk_data]   Package stopwords is already up-to-date!\n"
     ]
    },
    {
     "data": {
      "text/plain": [
       "True"
      ]
     },
     "execution_count": 30,
     "metadata": {},
     "output_type": "execute_result"
    }
   ],
   "source": [
    "nltk.download('stopwords')"
   ]
  },
  {
   "cell_type": "markdown",
   "id": "b9ee8e78-5115-4470-a7f8-6ab6cde12d67",
   "metadata": {},
   "source": [
    "### Text Pre-processing: \n",
    "\n",
    "Here, we are taking the text feature as a string input and applying some text operations to it. We first remove all punctuation marks from the text and form a new string with no punctuation marks. Then we split the strings into individual words and remove the stopwords using the NLTK stopwords function. This process helps improve the natural language processing technique for the machine learning algorithm."
   ]
  },
  {
   "cell_type": "code",
   "execution_count": 31,
   "id": "38afa491-9515-4eae-ae76-50475011f249",
   "metadata": {},
   "outputs": [],
   "source": [
    "def process_text(text):\n",
    "    nopunc = [char for char in text if char not in string.punctuation]\n",
    "    nopunc = ''.join(nopunc)\n",
    "    \n",
    "    clean_words = [word for word in nopunc.split() if word.lower() not in stopwords.words('english')]\n",
    "    \n",
    "    return clean_words"
   ]
  },
  {
   "cell_type": "code",
   "execution_count": 32,
   "id": "f6c95bf1-7e9c-464a-afb9-cfa8e9099da9",
   "metadata": {},
   "outputs": [
    {
     "data": {
      "text/plain": [
       "0    [major, changes, happen, often, difficult, rea...\n",
       "1    [Donald, Trump, unapologetic, Islamophobic, bi...\n",
       "2    [Reuters, United, Nations, aid, agencies, said...\n",
       "3    [Conservatives, may, nominee, wanted, killed, ...\n",
       "4    [PARIS, Reuters, French, voters, view, far, le...\n",
       "Name: text, dtype: object"
      ]
     },
     "execution_count": 32,
     "metadata": {},
     "output_type": "execute_result"
    }
   ],
   "source": [
    "data['text'].head().apply(process_text)"
   ]
  },
  {
   "cell_type": "code",
   "execution_count": 33,
   "id": "c80b4821-bf8e-44f0-ab9e-be6f796909f3",
   "metadata": {},
   "outputs": [
    {
     "data": {
      "text/plain": [
       "0        When major changes happen, it is often difficu...\n",
       "1        Donald Trump is an unapologetic Islamophobic b...\n",
       "2        (Reuters) - United Nations aid agencies said t...\n",
       "3        Conservatives may have the nominee they wanted...\n",
       "4        PARIS (Reuters) - French voters view far lefti...\n",
       "                               ...                        \n",
       "42417    According to The Washington Post, sources clos...\n",
       "42418    21st Century Wire says We ve said it many time...\n",
       "42419    BUENOS AIRES (Reuters) - Argentina s main labo...\n",
       "42420    How are nonwhite children supposed to feel saf...\n",
       "42421    Every website has a 404 page that you land on ...\n",
       "Name: text, Length: 42422, dtype: object"
      ]
     },
     "execution_count": 33,
     "metadata": {},
     "output_type": "execute_result"
    }
   ],
   "source": [
    "data['text']"
   ]
  },
  {
   "cell_type": "markdown",
   "id": "cd180c7b-63bd-4d3b-8d6b-c818a094e3be",
   "metadata": {},
   "source": [
    "### Train-Test Split using Scikit Learn:\n",
    "\n",
    "In this section, we split the train and test data as a necessary pre-processing technique for input into the machine learning algorithm. 'X' represents the cleaned text of the article and 'y' represents the \"real = 1\" or \"fake = 0\" labels for the articles. The dataframe is split into 70% for training and 30% for testing. The training size consists of 29,695 articles and the testing size contains 12,727 articles. "
   ]
  },
  {
   "cell_type": "code",
   "execution_count": 34,
   "id": "bee1d459-7349-4075-8d13-6c01397245de",
   "metadata": {},
   "outputs": [],
   "source": [
    "X = data['text']\n",
    "y = data['class']"
   ]
  },
  {
   "cell_type": "code",
   "execution_count": 35,
   "id": "bb0a719f-a5b5-44ce-ac82-3fde4e057d0e",
   "metadata": {},
   "outputs": [
    {
     "name": "stdout",
     "output_type": "stream",
     "text": [
      "Training Size (29695,)\n",
      "Testing Size (12727,)\n"
     ]
    }
   ],
   "source": [
    "X_train, X_test, y_train, y_test = train_test_split(X, y, test_size=0.3)\n",
    "print(\"Training Size\", X_train.shape) \n",
    "print(\"Testing Size\", X_test.shape)"
   ]
  },
  {
   "cell_type": "markdown",
   "id": "c3da780c-5f59-4428-be24-eae7a9ef2125",
   "metadata": {},
   "source": [
    "### Vectorize the Text Data:\n",
    "\n",
    "The purpose of vectorizing the text data is to convert the text data into numerical represenation so the machine learning model can understand. Below, we are using the TF-IDF (Term frequency-inverse document frequency) vectorizer. The TF-IDF essentially calculates the importance of a word in each article. Term frequency calculates how many times a word is used in a document, while document frequency shows the number of articles containing a specific term. "
   ]
  },
  {
   "cell_type": "code",
   "execution_count": 36,
   "id": "c146ecab-e0fc-40b4-b2a3-8f6d97756559",
   "metadata": {
    "tags": []
   },
   "outputs": [],
   "source": [
    "from sklearn.feature_extraction.text import TfidfVectorizer\n",
    "vectorization = TfidfVectorizer()\n",
    "x1_train = vectorization.fit_transform(X_train)\n",
    "x1_test = vectorization.transform(X_test)"
   ]
  },
  {
   "cell_type": "markdown",
   "id": "522e60a6-8d2d-4fa0-a142-76428aaeda81",
   "metadata": {},
   "source": [
    "### Logistic Regression:\n",
    "\n",
    "Logistic regression is being utilized in this project to train the model for binary classification. Logistic regression assigns a probability value between 0 and 1 of if the article is either factual or false. A probability score of under 0.5 will be assigned as a 0 and values of over 0.5 will be assigned a 1. \n"
   ]
  },
  {
   "cell_type": "code",
   "execution_count": 37,
   "id": "4f129753-b0ec-4170-9a52-a89f4d7871d3",
   "metadata": {},
   "outputs": [
    {
     "data": {
      "text/plain": [
       "LogisticRegression()"
      ]
     },
     "execution_count": 37,
     "metadata": {},
     "output_type": "execute_result"
    }
   ],
   "source": [
    "from sklearn.linear_model import LogisticRegression\n",
    "LR = LogisticRegression()\n",
    "LR.fit(x1_train, y_train)"
   ]
  },
  {
   "cell_type": "markdown",
   "id": "be39c379-de9b-4bad-a9cf-687c89940c6b",
   "metadata": {},
   "source": [
    "### Predictive Outcome for Logistic Regression:\n",
    "\n",
    "Below, we can see the results from our analysis. We have correctly predicted 98.6% of the real versus fake news articles of the test dataset. This proves that the method was effective predicting the outcomes on the test dataset."
   ]
  },
  {
   "cell_type": "code",
   "execution_count": 38,
   "id": "84eecb15-bdaf-40d1-bb1d-18632b90a829",
   "metadata": {},
   "outputs": [],
   "source": [
    "pred_lr = LR.predict(x1_test)"
   ]
  },
  {
   "cell_type": "code",
   "execution_count": 39,
   "id": "2abe630a-43ad-41f4-b6ca-06afd9c92f0c",
   "metadata": {},
   "outputs": [
    {
     "name": "stdout",
     "output_type": "stream",
     "text": [
      "Misclassified examples: 177\n"
     ]
    }
   ],
   "source": [
    "print('Misclassified examples: %d' % (y_test != pred_lr).sum())"
   ]
  },
  {
   "cell_type": "code",
   "execution_count": 40,
   "id": "0313f40f-4913-44f7-bf08-8a72bbaedb8f",
   "metadata": {},
   "outputs": [
    {
     "name": "stdout",
     "output_type": "stream",
     "text": [
      "Logistic Regression Accuracy: 0.986092559126267\n"
     ]
    }
   ],
   "source": [
    "print(\"Logistic Regression Accuracy:\", accuracy_score(y_test, pred_lr)) #test accuracy"
   ]
  },
  {
   "cell_type": "markdown",
   "id": "f2b3e7d5-f336-4586-b90d-a41a162ce807",
   "metadata": {},
   "source": [
    "### Misclassified Indices: \n",
    "\n",
    "Below is the vector of all indices that are misclassified. We could go back into the dataset to observe which articles are misclassified (total of 177 indices)."
   ]
  },
  {
   "cell_type": "code",
   "execution_count": 41,
   "id": "fbd4a37c-e86c-4f12-9b38-111abbc95b7d",
   "metadata": {},
   "outputs": [
    {
     "name": "stdout",
     "output_type": "stream",
     "text": [
      "Misclassified Examples Indices: [71, 82, 176, 208, 300, 382, 397, 447, 563, 759, 980, 1211, 1227, 1240, 1334, 1419, 1427, 1557, 1567, 1628, 1709, 1750, 1793, 1816, 1837, 1907, 2104, 2181, 2187, 2193, 2201, 2242, 2280, 2311, 2358, 2519, 2595, 2621, 2865, 2878, 2921, 2962, 3008, 3048, 3421, 3453, 3538, 3543, 3562, 3576, 3580, 3768, 3822, 3823, 3852, 3891, 3901, 3960, 3982, 4080, 4087, 4141, 4152, 4159, 4245, 4255, 4289, 4622, 4729, 4916, 4925, 5013, 5182, 5307, 5442, 5474, 5572, 5652, 5668, 5683, 5898, 5927, 5930, 6030, 6075, 6147, 6213, 6238, 6240, 6242, 6356, 6504, 6630, 6638, 6683, 6822, 6868, 6907, 6934, 7183, 7226, 7323, 7444, 7556, 7584, 7613, 7628, 7639, 7696, 7743, 7818, 7856, 7864, 7870, 7986, 8000, 8009, 8039, 8082, 8085, 8100, 8102, 8117, 8178, 8201, 8225, 8287, 8430, 8502, 8504, 8585, 8768, 8770, 9093, 9222, 9311, 9402, 9415, 9428, 9435, 9582, 9583, 9630, 9678, 9755, 9809, 9879, 9929, 10013, 10017, 10210, 10244, 10319, 10322, 10444, 10503, 10514, 10768, 10782, 10896, 11020, 11148, 11201, 11208, 11220, 11283, 11448, 11557, 11642, 11645, 11864, 11894, 11962, 12047, 12207, 12367, 12496]\n"
     ]
    }
   ],
   "source": [
    "misclassified = (pred_lr != y_test)\n",
    "print(\"Misclassified Examples Indices:\", [i for i, x in enumerate(misclassified) if x])"
   ]
  },
  {
   "cell_type": "markdown",
   "id": "51902276-5fe2-4784-9403-0d1d816dfb57",
   "metadata": {},
   "source": [
    "### Precision, Recall, F1-Score for Logistic Regression:\n",
    "\n",
    "Precision, recall, and F1-score are common evaluation methods when it comes to analyzing the machine learning models. Below, we can observe that the precision, recall, and f1-score of  both classes were extremely high, which is a great indicator that our data is being correctly classified. \n"
   ]
  },
  {
   "cell_type": "code",
   "execution_count": 42,
   "id": "67300b32-691c-418d-9399-5b0909e6321f",
   "metadata": {},
   "outputs": [
    {
     "name": "stdout",
     "output_type": "stream",
     "text": [
      "Precision, Recall, Fscore: (0.9873797128884683, 0.9847388294524858, 0.986057502953919, None)\n"
     ]
    }
   ],
   "source": [
    "print(\"Precision, Recall, Fscore:\", precision_recall_fscore_support(y_test, pred_lr, average='binary'))"
   ]
  },
  {
   "cell_type": "markdown",
   "id": "9c84080c-f8e2-49e4-818e-c058b89ed525",
   "metadata": {},
   "source": [
    "### Support Vector Machines: \n",
    "\n",
    "Below, we will also implement a Support Vector Machine (SVM) to the data to train the model and produce results. The SVM finds the optimal hyperplane that best seperates the data into their respective predicted classes. We will set the C paramter to 1.0 which helps maximize the margin while minimizing the classification error. The random state will be set to 1 to ensure reproducible results. "
   ]
  },
  {
   "cell_type": "code",
   "execution_count": 43,
   "id": "80793f4c-e693-49d0-a18f-d1712428e442",
   "metadata": {},
   "outputs": [
    {
     "data": {
      "text/plain": [
       "SVC(kernel='linear', random_state=1)"
      ]
     },
     "execution_count": 43,
     "metadata": {},
     "output_type": "execute_result"
    }
   ],
   "source": [
    "from sklearn.svm import SVC\n",
    "\n",
    "svm = SVC(kernel='linear', C=1.0, random_state=1)\n",
    "svm.fit(x1_train, y_train)"
   ]
  },
  {
   "cell_type": "markdown",
   "id": "6ef2fd92-ad36-4993-a053-0123eae0008f",
   "metadata": {},
   "source": [
    "### Predictive Outcome for Support Vector Machines:\n",
    "\n",
    "Below, we can see the results from our analysis. We have correctly predicted 99.3% of the real versus fake news articles of the test dataset. This proves that the method was effective predicting the outcomes on the test dataset."
   ]
  },
  {
   "cell_type": "code",
   "execution_count": 44,
   "id": "4ea02db3-c7ab-4620-89ef-85e3bbf60abe",
   "metadata": {},
   "outputs": [],
   "source": [
    "pred_svm = svm.predict(x1_test)"
   ]
  },
  {
   "cell_type": "code",
   "execution_count": 45,
   "id": "318ee06a-846e-4bdb-9690-d1c68f96ab13",
   "metadata": {},
   "outputs": [
    {
     "name": "stdout",
     "output_type": "stream",
     "text": [
      "Misclassified examples: 84\n"
     ]
    }
   ],
   "source": [
    "print('Misclassified examples: %d' % (y_test != pred_svm).sum())"
   ]
  },
  {
   "cell_type": "code",
   "execution_count": 46,
   "id": "2ceca8e8-c609-46d2-ac93-b58fa45d619d",
   "metadata": {},
   "outputs": [
    {
     "name": "stdout",
     "output_type": "stream",
     "text": [
      "Support Vector Machine Accuracy: 0.9933998585683979\n"
     ]
    }
   ],
   "source": [
    "print(\"Support Vector Machine Accuracy:\", accuracy_score(y_test, pred_svm)) #test accuracy"
   ]
  },
  {
   "cell_type": "markdown",
   "id": "2eb54cbf-d669-4e39-bb79-4bb2827ca61c",
   "metadata": {},
   "source": [
    "### Misclassified Indices: \n",
    "\n",
    "Below is the vector of all indices that are misclassified. We could go back into the dataset to observe which articles are misclassified (total of 84 indices)."
   ]
  },
  {
   "cell_type": "code",
   "execution_count": 47,
   "id": "84189dfa-5e55-4c29-81da-a53264866951",
   "metadata": {},
   "outputs": [
    {
     "name": "stdout",
     "output_type": "stream",
     "text": [
      "Misclassified Examples Indices: [82, 422, 447, 563, 759, 848, 1334, 1427, 1628, 1750, 1793, 1816, 1907, 2181, 2187, 2201, 2242, 2519, 2595, 2677, 2962, 3048, 3453, 3543, 3576, 3580, 3822, 3823, 3852, 3901, 4080, 4152, 4319, 4622, 5135, 5442, 5661, 5683, 5927, 6048, 6075, 6147, 6213, 6356, 6934, 7183, 7226, 7323, 7444, 7449, 7613, 7856, 7864, 7870, 8117, 8178, 8225, 8286, 8430, 8502, 8504, 9311, 9402, 9428, 9583, 9678, 9755, 10013, 10085, 10210, 10244, 10322, 10436, 10514, 10768, 11020, 11201, 11283, 11448, 11642, 11894, 11962, 12047, 12207]\n"
     ]
    }
   ],
   "source": [
    "misclassified = (pred_svm != y_test)\n",
    "print(\"Misclassified Examples Indices:\", [i for i, x in enumerate(misclassified) if x])"
   ]
  },
  {
   "cell_type": "markdown",
   "id": "025d952e-1405-4414-a8e0-7a4c906bc777",
   "metadata": {},
   "source": [
    "### Precision, Recall, F1-Score for Support Vector Machine:\n",
    "\n",
    "Precision, recall, and F1-score are common evaluation methods when it comes to analyzing the machine learning models. Below, we can observe that the precision, recall, and f1-score of both classes were extremely high, which is a great indicator that our data is being correctly classified. "
   ]
  },
  {
   "cell_type": "code",
   "execution_count": 48,
   "id": "9959bd32-590c-49c3-8aa8-37cc89379c62",
   "metadata": {},
   "outputs": [
    {
     "name": "stdout",
     "output_type": "stream",
     "text": [
      "Precision, Recall, Fscore: (0.9938582677165354, 0.9929200755191945, 0.993388950102314, None)\n"
     ]
    }
   ],
   "source": [
    "print(\"Precision, Recall, Fscore:\", precision_recall_fscore_support(y_test, pred_svm, average='binary'))"
   ]
  },
  {
   "cell_type": "markdown",
   "id": "036010a4-71b9-4a45-a3d3-133761fc317a",
   "metadata": {},
   "source": [
    "### Decision Tree Classifiers: \n",
    "\n",
    "Below, we will also implement a decision tree classifier to the data to train the model and produce results. A decision  builds a tree-like model by splitting the training data into subsets based on the most informative features, leading to a set of simple decision rules to classify articles."
   ]
  },
  {
   "cell_type": "code",
   "execution_count": 49,
   "id": "e2979718-09e6-4a80-a2ef-9fbb7f736165",
   "metadata": {},
   "outputs": [],
   "source": [
    "from sklearn.tree import DecisionTreeClassifier\n",
    "dt = DecisionTreeClassifier(random_state=1)\n",
    "dt.fit(x1_train, y_train)\n",
    "pred_dt = dt.predict(x1_test)"
   ]
  },
  {
   "cell_type": "code",
   "execution_count": 50,
   "id": "1fcb4f71-ec22-489d-a304-91f1788c2964",
   "metadata": {},
   "outputs": [
    {
     "name": "stdout",
     "output_type": "stream",
     "text": [
      "Misclassified examples: 60\n",
      "Decision Tree Accuracy: 0.9952856132631414\n",
      "Precision, Recall, Fscore: (0.9955919395465995, 0.9949653870358716, 0.9952785646836638, None)\n"
     ]
    }
   ],
   "source": [
    "print('Misclassified examples: %d' % (y_test != pred_dt).sum())\n",
    "print(\"Decision Tree Accuracy:\", accuracy_score(y_test, pred_dt))\n",
    "print(\"Precision, Recall, Fscore:\", precision_recall_fscore_support(y_test, pred_dt, average='binary'))"
   ]
  },
  {
   "cell_type": "markdown",
   "id": "6244c08e-b311-4596-9284-df46baaeed5e",
   "metadata": {},
   "source": [
    "### Random Forest Classifier: \n",
    "\n",
    "The random forest classifier is an  method that constructs multiple decision trees and combines their predictions. This approach generally results in better performance and robustness."
   ]
  },
  {
   "cell_type": "code",
   "execution_count": 51,
   "id": "dc3d03fb-b003-4e76-a290-3dc424303c2c",
   "metadata": {},
   "outputs": [],
   "source": [
    "from sklearn.ensemble import RandomForestClassifier\n",
    "rf = RandomForestClassifier(n_estimators=100, random_state=1)\n",
    "rf.fit(x1_train, y_train)\n",
    "pred_rf = rf.predict(x1_test)"
   ]
  },
  {
   "cell_type": "code",
   "execution_count": 52,
   "id": "6721d72c-a22a-4cdc-bb3c-aef004015eb4",
   "metadata": {},
   "outputs": [
    {
     "name": "stdout",
     "output_type": "stream",
     "text": [
      "Misclassified examples: 131\n",
      "Random Forest Accuracy: 0.989706922291192\n",
      "Precision, Recall, Fscore: (0.991783852109338, 0.9875707992448081, 0.9896728419392984, None)\n"
     ]
    }
   ],
   "source": [
    "print('Misclassified examples: %d' % (y_test != pred_rf).sum())\n",
    "print(\"Random Forest Accuracy:\", accuracy_score(y_test, pred_rf))\n",
    "print(\"Precision, Recall, Fscore:\", precision_recall_fscore_support(y_test, pred_rf, average='binary'))"
   ]
  },
  {
   "cell_type": "markdown",
   "id": "337f0701-8da2-4ff7-a941-5720fa87cfe2",
   "metadata": {},
   "source": [
    "### Gradient Boosting Classifier\n",
    "\n",
    "Gradient boosting machines are another type of  model that builds decision trees to minimize the residual errors from previous trees. "
   ]
  },
  {
   "cell_type": "code",
   "execution_count": 53,
   "id": "95903ea4-327b-4b6a-8dad-950ea6a63791",
   "metadata": {},
   "outputs": [],
   "source": [
    "from sklearn.ensemble import GradientBoostingClassifier\n",
    "gbm = GradientBoostingClassifier(n_estimators=100, random_state=1)\n",
    "gbm.fit(x1_train, y_train)\n",
    "pred_gbm = gbm.predict(x1_test)"
   ]
  },
  {
   "cell_type": "code",
   "execution_count": 54,
   "id": "e809d862-573c-43ff-b3fa-ae0a1064fb35",
   "metadata": {},
   "outputs": [
    {
     "name": "stdout",
     "output_type": "stream",
     "text": [
      "Misclassified examples: 60\n",
      "Gradient Boosting Machine Accuracy: 0.9952856132631414\n",
      "Precision, Recall, Fscore: (0.9982589427033871, 0.9922907488986784, 0.995265898690232, None)\n"
     ]
    }
   ],
   "source": [
    "print('Misclassified examples: %d' % (y_test != pred_gbm).sum())\n",
    "print(\"Gradient Boosting Machine Accuracy:\", accuracy_score(y_test, pred_gbm))\n",
    "print(\"Precision, Recall, Fscore:\", precision_recall_fscore_support(y_test, pred_gbm, average='binary'))"
   ]
  },
  {
   "cell_type": "markdown",
   "id": "614f4d70-b3e2-4f25-9820-b6d9d18c8c21",
   "metadata": {},
   "source": [
    "### ROC Curves"
   ]
  },
  {
   "cell_type": "code",
   "execution_count": 55,
   "id": "f8fb1c8d-0a99-4fe4-a610-12aae1d5a013",
   "metadata": {},
   "outputs": [],
   "source": [
    "from sklearn.metrics import roc_curve, auc\n",
    "import seaborn as sns"
   ]
  },
  {
   "cell_type": "code",
   "execution_count": 56,
   "id": "e5d4f617-c41c-45ca-96f5-c0cbd83dd75a",
   "metadata": {},
   "outputs": [],
   "source": [
    "def plot_roc_curve(fpr, tpr, label=None):\n",
    "    plt.plot(fpr, tpr, linewidth=2, label=label)\n",
    "    plt.plot([0, 1], [0, 1], 'k--')\n",
    "    plt.axis([0, 0.2, 0.8, 1])  # Adjust axis limits here\n",
    "    plt.xlabel('False Positive Rate')\n",
    "    plt.ylabel('True Positive Rate')\n",
    "    plt.title('ROC Curve')"
   ]
  },
  {
   "cell_type": "code",
   "execution_count": 60,
   "id": "79e48689-cc7f-4811-a4a2-ee97585ed32f",
   "metadata": {},
   "outputs": [
    {
     "data": {
      "image/png": "[encoded data removed]",
      "text/plain": [
       "<Figure size 1000x700 with 1 Axes>"
      ]
     },
     "metadata": {},
     "output_type": "display_data"
    }
   ],
   "source": [
    "# Logistic Regression\n",
    "fpr_lr, tpr_lr, thresholds_lr = roc_curve(y_test, pred_lr)\n",
    "roc_auc_lr = auc(fpr_lr, tpr_lr)\n",
    "\n",
    "# Support Vector Machine\n",
    "fpr_svm, tpr_svm, thresholds_svm = roc_curve(y_test, pred_svm)\n",
    "roc_auc_svm = auc(fpr_svm, tpr_svm)\n",
    "\n",
    "# Decision Tree\n",
    "fpr_dt, tpr_dt, thresholds_dt = roc_curve(y_test, pred_dt)\n",
    "roc_auc_dt = auc(fpr_dt, tpr_dt)\n",
    "\n",
    "# Random Forest\n",
    "fpr_rf, tpr_rf, thresholds_rf = roc_curve(y_test, pred_rf)\n",
    "roc_auc_rf = auc(fpr_rf, tpr_rf)\n",
    "\n",
    "# Gradient Boosting Machine\n",
    "fpr_gbm, tpr_gbm, thresholds_gbm = roc_curve(y_test, pred_gbm)\n",
    "roc_auc_gbm = auc(fpr_gbm, tpr_gbm)\n",
    "\n",
    "# Plot ROC curves\n",
    "plt.figure(figsize=(10, 7))\n",
    "plot_roc_curve(fpr_lr, tpr_lr, \"Logistic Regression (AUC = %0.2f)\" % roc_auc_lr)\n",
    "plot_roc_curve(fpr_svm, tpr_svm, \"SVM (AUC = %0.2f)\" % roc_auc_svm)\n",
    "plot_roc_curve(fpr_dt, tpr_dt, \"Decision Tree (AUC = %0.2f)\" % roc_auc_dt)\n",
    "plot_roc_curve(fpr_rf, tpr_rf, \"Random Forest (AUC = %0.2f)\" % roc_auc_rf)\n",
    "plot_roc_curve(fpr_gbm, tpr_gbm, \"Gradient Boosting Machine (AUC = %0.2f)\" % roc_auc_gbm)\n",
    "plt.legend(loc=\"lower right\")\n",
    "plt.show()\n"
   ]
  },
  {
   "cell_type": "markdown",
   "id": "05eb7b9d-485a-4f13-9a06-c0bcd3a0f891",
   "metadata": {},
   "source": [
    "The ROC (Receiving Operating Characteristic) curve helps illustrate the performance of each binary classification model. The ROC curve plots the true positive rate against the false positive rate of the rsults for each model. The ROC curves for each model show near perfect classification for each model that was tested. "
   ]
  },
  {
   "cell_type": "markdown",
   "id": "9ee507d1-4c7c-490b-91ca-b9aa67822780",
   "metadata": {},
   "source": [
    "### Table Comparison: \n",
    "\n",
    "Classifier | Accuracy | Precision | Recall | F-Score | Misclassified Examples |\n",
    "-----|-----|-----|-----|-----|----- \n",
    "Logistic Regression | 98.61 | 98.74 | 98.47 | 98.61 | 177 |\n",
    "SVM | 99.34 | 99.39 | 99.29 | 99.34 | 84 |\n",
    "Decision Trees | 99.53 | 99.56 | 99.50 | 99.53 | 60 |\n",
    "Random Forests | 99.00 | 99.18 | 98.76 | 99.00 | 134 |\n",
    "Gradient Boosting | 99.53 | 99.83 | 99.23 | 99.53 | 60 |\n",
    "\n",
    "The above table shows the comparisons between all machine learning models on the data. We can observe high accuracy, precision, recall, and F-Score values for all algorithms. The articles ranked from least to most misidentified news articles are: Gradient Boosting, Decision Tree, SCM, Random Forests, and Logistic Regression. \n",
    "\n",
    "Precision, recall, and F-score are other evaluation metrics for our model. The formulas for the three are as follow: \n",
    "\n",
    "Precision = $\\frac{True Positives}{True Postives + False Positives}$\n",
    "\n",
    "Recall = $\\frac{True Positives}{True Postives + Negatives}$\n",
    "\n",
    "F-score = $2 \\cdot \\frac{Precision \\cdot Recall}{Precision + Recall}$\n",
    "\n",
    "Precision quantifies the number of positive class predictions that actually belong to the positive class, recall quantifies the number of positive class predictions made out of all positive examples in the dataset, F-Measure provides a single score that balances both the concerns of precision and recall in one number. These values indicate the model is accurately classifying predictions. \n",
    "\n"
   ]
  },
  {
   "cell_type": "markdown",
   "id": "01bef441-97e6-4af0-a4b6-3f394bed33bc",
   "metadata": {},
   "source": [
    "### Conclusion: \n",
    "\n",
    "The proposed methods were used to help detect the difference between factual and false news articles. This important topic in society is ever-evolving, so it is crucial to design novel methods to help detect what information consumer's are reading, and to ensure that information is factual. In this paper, we proposed different machine learning algorithms to help detect real versus fake news. These algorithms included simple Logistic Regression, Support Vector Machines, Decision Trees, Random Forest Classifier, and a Gradient Boosting Machine. Each algorithm performed well on detecting which news articles were real versus fake from the test dataset, but the model with the highest accuracy was the gradient boosting algorithm and decision tree algorithm. These models had the lowest number of misclassified examples with 30 articles being misclassified of nearly 13,000 in the test dataset. The one main difference between these models was that the decision tree classifier performed classification faster than the gradient boosting algorithm, which is important for real-world applications. Future works for this project could include implementing deep learning methods to detect fake news. These future methods would likely have different data pre-processing steps, since deep learning methods such as Recurrent Neural Networks (RNN's) and LSTM (Long-Short Term Memory) models need the data to be in sequential form. Overall, this project proved to be efficient in learning the difference between real and fake news articles on the test dataset and could further be improved in the future. "
   ]
  },
  {
   "cell_type": "markdown",
   "id": "fdff0786-7713-4c4b-a9cc-681a495db074",
   "metadata": {},
   "source": [
    "### References: \n",
    "\n",
    "1. University of Victoria. (2022, November 27). Fake news detection datasets. International Society of Online Trust. https://onlineacademiccommunity.uvic.ca/isot/2022/11/27/fake-news-detection-datasets/\n",
    "\n",
    "2. Brownlee, J. (n.d.). Logistic regression for machine learning. Machine Learning Mastery. Retrieved March 5, 2023, from https://machinelearningmastery.com/logistic-regression-for-machine-learning/\n",
    "\n",
    "3. Géron, A. (n.d.). Precision, Recall and F-Measure for Imbalanced Classification. Machine Learning Mastery. Retrieved from https://machinelearningmastery.com/precision-recall-and-f-measure-for-imbalanced-classification/"
   ]
  }
 ],
 "metadata": {
  "kernelspec": {
   "display_name": "Python 3 (ipykernel)",
   "language": "python",
   "name": "python3"
  },
  "language_info": {
   "codemirror_mode": {
    "name": "ipython",
    "version": 3
   },
   "file_extension": ".py",
   "mimetype": "text/x-python",
   "name": "python",
   "nbconvert_exporter": "python",
   "pygments_lexer": "ipython3",
   "version": "3.9.12"
  }
 },
 "nbformat": 4,
 "nbformat_minor": 5
}
